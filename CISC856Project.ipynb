{
  "nbformat": 4,
  "nbformat_minor": 0,
  "metadata": {
    "colab": {
      "name": "CISC856Project.ipynb",
      "provenance": [],
      "collapsed_sections": [],
      "authorship_tag": "ABX9TyPWsgYTXfYIXNJe8jsiwkAG",
      "include_colab_link": true
    },
    "kernelspec": {
      "name": "python3",
      "display_name": "Python 3"
    },
    "language_info": {
      "name": "python"
    }
  },
  "cells": [
    {
      "cell_type": "markdown",
      "metadata": {
        "id": "view-in-github",
        "colab_type": "text"
      },
      "source": [
        "<a href=\"https://colab.research.google.com/github/turnippy/cisc856project/blob/main/CISC856Project.ipynb\" target=\"_parent\"><img src=\"https://colab.research.google.com/assets/colab-badge.svg\" alt=\"Open In Colab\"/></a>"
      ]
    },
    {
      "cell_type": "markdown",
      "source": [
        "CISC856 Group 6 Project Winter 2022\n",
        "\n",
        "Contributors:\n",
        "* P Saha\n",
        "* T Liu"
      ],
      "metadata": {
        "id": "WDCLwDQg3qIk"
      }
    },
    {
      "cell_type": "code",
      "execution_count": 3,
      "metadata": {
        "id": "2RL3jQ4P3nsM"
      },
      "outputs": [],
      "source": [
        "import random\n",
        "import numpy as np\n",
        "import matplotlib.pyplot as plt"
      ]
    },
    {
      "cell_type": "code",
      "source": [
        "class Environment:\n",
        "  def __init__(self, n, c, t):\n",
        "    '''\n",
        "    initialize with:\n",
        "      n = #number of affected areas\n",
        "      c = #capacities of response centers\n",
        "      t = #number of planning periods\n",
        "      initial state = [0] * n (zero resources allocated intiially)\n",
        "      initializes time step = 1\n",
        "    '''\n",
        "    self.n = n\n",
        "    self.c = c\n",
        "    self.t = t\n",
        "    self.state = np.zeros(n, dtype=int)\n",
        "    self.curr_time = 1\n",
        "    \n",
        "  def take_action(self, action, demand):\n",
        "    '''\n",
        "    action is a vector (a_1, a_2, ..., a_n),\n",
        "    where each a_i represents the resource allocation to the \n",
        "    i-th affected area, given a total of 'n' affected areas\n",
        "\n",
        "    demand is a vector (d_1, d_2, ..., d_n),\n",
        "    where each d_i represents the demand for resources of the\n",
        "    i-th affected area, given a total of 'n' affected areas\n",
        "\n",
        "    Following figure (1):\n",
        "    S_(i,t+1) = S_(i,t) + D_(i,t) if A_(i,t) == 0\n",
        "    S_(i,t+1) = S_(i,t) - A_(i,t) otherwise\n",
        "    where A_(i,t) denotes the resource allocation at time t for the i-th area,\n",
        "    where D_(i,t) denotes the demand at time t for the i-th area.\n",
        "    '''\n",
        "    self.check_action(action)\n",
        "    action = action * -1\n",
        "    ids = (action == 0)\n",
        "    action[ids] = demand[ids]\n",
        "    self.state = np.add(self.state, action)\n",
        "    self.curr_time += 1\n",
        "\n",
        "  def check_action(self, action):\n",
        "    '''\n",
        "    checks if action is legal under the given environment parameters\n",
        "    '''\n",
        "    if action.size != self.n:\n",
        "      raise ValueError('length of action tuple must equal number of affected areas')\n",
        "    if action.sum(axis=0) > self.c:\n",
        "      raise ValueError('resource allocation must not exceed capacity')\n",
        "\n",
        "  def get_reward(self, action):\n",
        "    '''\n",
        "    calculates the reward for the chosen action in the current state\n",
        "    '''\n",
        "    pass"
      ],
      "metadata": {
        "id": "ez1-NBxR8L8r"
      },
      "execution_count": null,
      "outputs": []
    },
    {
      "cell_type": "code",
      "source": [
        "class Agent:\n",
        "  def __init__(self, lr, k):\n",
        "    '''\n",
        "    initialize with:\n",
        "      lr = learning rate\n",
        "      k = number of epochs\n",
        "    '''\n",
        "    self.env = Environment()\n",
        "    self.lr = lr \n",
        "    self.k = k\n",
        "    self.q_table = self.initialize_q_table()\n",
        "  \n",
        "  def initialize_q_table(self):\n",
        "    q_table = {}\n",
        "\n",
        "    return q_table"
      ],
      "metadata": {
        "id": "xSF_xhg6C-LJ"
      },
      "execution_count": null,
      "outputs": []
    }
  ]
}