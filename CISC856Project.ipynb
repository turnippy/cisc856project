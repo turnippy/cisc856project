{
  "nbformat": 4,
  "nbformat_minor": 0,
  "metadata": {
    "colab": {
      "name": "CISC856Project.ipynb",
      "provenance": [],
      "collapsed_sections": [],
      "authorship_tag": "ABX9TyNh8/VMiF51m5bKsDE2o2FH",
      "include_colab_link": true
    },
    "kernelspec": {
      "name": "python3",
      "display_name": "Python 3"
    },
    "language_info": {
      "name": "python"
    }
  },
  "cells": [
    {
      "cell_type": "markdown",
      "metadata": {
        "id": "view-in-github",
        "colab_type": "text"
      },
      "source": [
        "<a href=\"https://colab.research.google.com/github/turnippy/cisc856project/blob/main/CISC856Project.ipynb\" target=\"_parent\"><img src=\"https://colab.research.google.com/assets/colab-badge.svg\" alt=\"Open In Colab\"/></a>"
      ]
    },
    {
      "cell_type": "markdown",
      "source": [
        "CISC856 Group 6 Project Winter 2022\n",
        "\n",
        "Contributors:\n",
        "* P Saha\n",
        "* T Liu"
      ],
      "metadata": {
        "id": "WDCLwDQg3qIk"
      }
    },
    {
      "cell_type": "code",
      "execution_count": 6,
      "metadata": {
        "id": "2RL3jQ4P3nsM"
      },
      "outputs": [],
      "source": [
        "import random\n",
        "import numpy as np\n",
        "import matplotlib.pyplot as plt\n",
        "\n",
        "from itertools import product"
      ]
    },
    {
      "cell_type": "code",
      "source": [
        "class Environment:\n",
        "  def __init__(self, n, c, t, ac, dca, dcb):\n",
        "    '''\n",
        "    initialize with:\n",
        "      n = number of affected areas\n",
        "      c = capacities of response centers\n",
        "      t = number of planning periods\n",
        "      ac = accessibility cost parameter\n",
        "      dca = deprivation cost parameter 'a'\n",
        "      dcb = deprivation cost parameter 'b'\n",
        "      initial state = [0] * n (zero resources allocated intiially)\n",
        "      initializes time step = 1\n",
        "    '''\n",
        "    self.n = n\n",
        "    self.c = c\n",
        "    self.t = t #time horizon\n",
        "    self.state = np.zeros(n, dtype=int)\n",
        "    self.curr_time = 1\n",
        "    \n",
        "  def take_action(self, action, demand):\n",
        "    '''\n",
        "    action is a vector (a_1, a_2, ..., a_n),\n",
        "    where each a_i represents the resource allocation to the \n",
        "    i-th affected area, given a total of 'n' affected areas\n",
        "\n",
        "    demand is a vector (d_1, d_2, ..., d_n),\n",
        "    where each d_i represents the demand for resources of the\n",
        "    i-th affected area, given a total of 'n' affected areas\n",
        "\n",
        "    Following figure (1):\n",
        "    S_(i,t+1) = S_(i,t) - Y_(i,t) + D_(i,t)\n",
        "    where Y_(i,t) denotes the resource allocation at time t for the i-th area,\n",
        "    where D_(i,t) denotes the demand at time t for the i-th area.\n",
        "    '''\n",
        "    self.check_action(action, demand)\n",
        "    self.state = np.add(self.state, action * -1)\n",
        "    self.state = np.add(self.state, demand)\n",
        "    self.curr_time += 1\n",
        "\n",
        "  def check_action(self, action, demand):\n",
        "    '''\n",
        "    checks if action and demand are legal under the given environment parameters\n",
        "    '''\n",
        "    if action.size != self.n:\n",
        "      raise ValueError('length of action tuple must equal number of affected areas')\n",
        "    if action.sum(axis=0) > self.c:\n",
        "      raise ValueError('resource allocation must not exceed capacity')\n",
        "    if demand.size != self.n:\n",
        "      raise ValueError('length of demand tuple must equal number of affected areas')\n",
        "\n",
        "  def calc_cost(self, action, state, time):\n",
        "    '''\n",
        "    calculates the reward for the chosen action in the given state and time step\n",
        "    action must be a vector with size = n\n",
        "    state must be a vector with size = n\n",
        "    time must be an integer value, where 0 < time <= horizon+1\n",
        "    '''\n",
        "    if time == 1:\n",
        "      #following equation (7)\n",
        "      pass\n",
        "    elif time == (self.t + 1):\n",
        "      #following equation (9)\n",
        "      pass\n",
        "    else:\n",
        "      #following equation (8)\n",
        "      pass"
      ],
      "metadata": {
        "id": "ez1-NBxR8L8r"
      },
      "execution_count": null,
      "outputs": []
    },
    {
      "cell_type": "code",
      "source": [
        "class Agent:\n",
        "  def __init__(self, k=2000, epsilon=0.5, alpha=0.8, gamma=0.2):\n",
        "    '''\n",
        "    initialize with:\n",
        "      k = number of epochs\n",
        "      epsilon\n",
        "      alpha\n",
        "      gamma\n",
        "    '''\n",
        "    self.env = Environment()\n",
        "    self.k = k\n",
        "    self.epsilon = epsilon\n",
        "    self.alpha = alpha\n",
        "    self.gamma = gamma\n",
        "    self.initialize_q_table(self.env.n, self.env.c, self.env.t)\n",
        "  \n",
        "  def initialize_q_table(self, n, c, t):\n",
        "    #q-table is maintained as a double hash table\n",
        "    #the keys of the outer hash is the state tuple\n",
        "    #the keys of the inner hash the action tuple in the given state\n",
        "    self.q_table = {}\n",
        "    #first, generate all possible states. by the problem descriptions, we assume\n",
        "    #that S_(i,t) >= 0 for all i <= N, for all t <= T\n",
        "    \n",
        "    #all_states = list(permutations(range(0, t+1), n))\n",
        "    #all_actions = list(permutations(range()))\n",
        "\n",
        "    all_states = [i for i in product(range(0, t+1), repeat=n)]\n",
        "    all_actions = [i for i in product(range(0, c*n + 1), repeat=n)]\n",
        "\n",
        "    for tup in all_states:\n",
        "      if sum(tup) > (t+1) * n:\n",
        "        #invalid state, as the total demand of the environment cannot exceed\n",
        "        #(max epoch number) * (number of AA's)\n",
        "        continue\n",
        "      self.q_table[tup] = {}\n",
        "\n",
        "  def update_qtable(self, curr, action, reward, next):\n",
        "    temp = []\n",
        "    for a in self.q_table[next].keys():\n",
        "      temp.append[self.q_table[next][a]]\n",
        "    self.q_table[curr][action] += self.alpha * (reward + self.gamma * max(temp) - self.q_table[curr][action])\n",
        "\n",
        "  def train_episode(self, t):\n",
        "    state = (0,) * self.n\n",
        "    "
      ],
      "metadata": {
        "id": "xSF_xhg6C-LJ"
      },
      "execution_count": null,
      "outputs": []
    },
    {
      "cell_type": "code",
      "source": [
        ""
      ],
      "metadata": {
        "id": "VvZIAX6AJic8"
      },
      "execution_count": null,
      "outputs": []
    }
  ]
}