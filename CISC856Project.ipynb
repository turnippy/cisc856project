{
  "nbformat": 4,
  "nbformat_minor": 0,
  "metadata": {
    "colab": {
      "name": "CISC856Project.ipynb",
      "provenance": [],
      "collapsed_sections": [],
      "authorship_tag": "ABX9TyPnI1UwKfbQk4+cHAwXIieP",
      "include_colab_link": true
    },
    "kernelspec": {
      "name": "python3",
      "display_name": "Python 3"
    },
    "language_info": {
      "name": "python"
    }
  },
  "cells": [
    {
      "cell_type": "markdown",
      "metadata": {
        "id": "view-in-github",
        "colab_type": "text"
      },
      "source": [
        "<a href=\"https://colab.research.google.com/github/turnippy/cisc856project/blob/main/CISC856Project.ipynb\" target=\"_parent\"><img src=\"https://colab.research.google.com/assets/colab-badge.svg\" alt=\"Open In Colab\"/></a>"
      ]
    },
    {
      "cell_type": "markdown",
      "source": [
        "CISC856 Group 6 Project Winter 2022\n",
        "\n",
        "Contributors:\n",
        "* P Saha\n",
        "* T Liu"
      ],
      "metadata": {
        "id": "WDCLwDQg3qIk"
      }
    },
    {
      "cell_type": "code",
      "execution_count": null,
      "metadata": {
        "id": "2RL3jQ4P3nsM"
      },
      "outputs": [],
      "source": [
        "import random\n",
        "import numpy as np\n",
        "import matplotlib.pyplot as plt"
      ]
    },
    {
      "cell_type": "code",
      "source": [
        "class Environment:\n",
        "  def __init__(self, n, c, t):\n",
        "    '''\n",
        "    initialize with:\n",
        "      n = #number of affected areas\n",
        "      c = #capacities of response centers\n",
        "      t = #number of planning periods\n",
        "    '''\n",
        "    self.n = n\n",
        "    self.c = c\n",
        "    self.t = t\n",
        "    \n",
        "  def take_action(self, action):\n",
        "    '''\n",
        "    action is a tuple in the form (N_1, N_2, ... N_n), where each N_i\n",
        "    represents the resource allocation to the i-th affected area, given\n",
        "    a total of 'n' affected areas\n",
        "    '''\n",
        "    self.check_action(action)\n",
        "\n",
        "  def check_action(self, action):\n",
        "    '''\n",
        "    ensures if action is legal under the given environment parameters\n",
        "    '''\n",
        "    if len(action) != self.n:\n",
        "      raise ValueError('length of action tuple must equal number of affected areas')\n",
        "    if sum(action) > self.c:\n",
        "      raise ValueError('resource allocation must not exceed capacity')"
      ],
      "metadata": {
        "id": "ez1-NBxR8L8r"
      },
      "execution_count": null,
      "outputs": []
    },
    {
      "cell_type": "code",
      "source": [
        "class Agent:\n",
        "  def __init__(self, lr, k):\n",
        "    '''\n",
        "    initialize with:\n",
        "      lr = learning rate\n",
        "      k = number of epochs\n",
        "    '''\n",
        "    self.env = Environment()\n",
        "    self.lr = lr \n",
        "    self.k = k\n",
        "    self.q_table = self.initialize_q_table()\n",
        "  \n",
        "  def initialize_q_table(self):\n",
        "    q_table = {}\n",
        "\n",
        "    return q_table"
      ],
      "metadata": {
        "id": "xSF_xhg6C-LJ"
      },
      "execution_count": null,
      "outputs": []
    }
  ]
}