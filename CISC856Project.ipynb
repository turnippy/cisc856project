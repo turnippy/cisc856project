{
  "nbformat": 4,
  "nbformat_minor": 0,
  "metadata": {
    "colab": {
      "name": "CISC856Project.ipynb",
      "provenance": [],
      "collapsed_sections": [],
      "authorship_tag": "ABX9TyM9tPMlHMkB6ziHCkAP2seY",
      "include_colab_link": true
    },
    "kernelspec": {
      "name": "python3",
      "display_name": "Python 3"
    },
    "language_info": {
      "name": "python"
    }
  },
  "cells": [
    {
      "cell_type": "markdown",
      "metadata": {
        "id": "view-in-github",
        "colab_type": "text"
      },
      "source": [
        "<a href=\"https://colab.research.google.com/github/turnippy/cisc856project/blob/main/CISC856Project.ipynb\" target=\"_parent\"><img src=\"https://colab.research.google.com/assets/colab-badge.svg\" alt=\"Open In Colab\"/></a>"
      ]
    },
    {
      "cell_type": "markdown",
      "source": [
        "CISC856 Group 6 Project Winter 2022\n",
        "\n",
        "Contributors:\n",
        "* P Saha\n",
        "* T Liu"
      ],
      "metadata": {
        "id": "WDCLwDQg3qIk"
      }
    },
    {
      "cell_type": "code",
      "execution_count": 7,
      "metadata": {
        "id": "2RL3jQ4P3nsM"
      },
      "outputs": [],
      "source": [
        "import random\n",
        "import numpy as np\n",
        "import matplotlib.pyplot as plt\n",
        "import copy\n",
        "from itertools import product"
      ]
    },
    {
      "cell_type": "code",
      "source": [
        "class Environment:\n",
        "  def __init__(self, n, c, t, gamma, ac, dca, dcb, demand=1):\n",
        "    '''\n",
        "    initialize with:\n",
        "      n = number of affected areas\n",
        "      c = capacities of response centers\n",
        "      t = number of planning periods\n",
        "      gamma\n",
        "      ac = accessibility cost parameter\n",
        "      dca = deprivation cost parameter 'a'\n",
        "      dcb = deprivation cost parameter 'b'\n",
        "      demand = 1 for all affected areas\n",
        "      initial state = [0] * n (zero resources allocated intiially)\n",
        "      initial time step = 1\n",
        "    '''\n",
        "    self.n = n\n",
        "    self.c = c\n",
        "    self.t = t #time horizon\n",
        "    self.L = 72 / t #length of each planning period\n",
        "    self.gamma = gamma\n",
        "    self.ac = ac #vector with AC cost param of each affected area\n",
        "    self.dca = dca\n",
        "    self.dcb = dcb\n",
        "    self.demand = np.array([demand] * n) #default=1 for all affected areas\n",
        "    self.reset()\n",
        "\n",
        "  def reset(self):\n",
        "    self.state = np.zeros(self.n, dtype=int)\n",
        "    self.curr_time = 1\n",
        "    \n",
        "  def take_action(self, action):\n",
        "    '''\n",
        "    action is a vector (a_1, a_2, ..., a_n),\n",
        "    where each a_i represents the resource allocation to the \n",
        "    i-th affected area, given a total of 'n' affected areas\n",
        "\n",
        "    demand is a vector (d_1, d_2, ..., d_n),\n",
        "    where each d_i represents the demand for resources of the\n",
        "    i-th affected area, given a total of 'n' affected areas\n",
        "\n",
        "    Following figure (1):\n",
        "    S_(i,t+1) = S_(i,t) - Y_(i,t) + D_(i,t)\n",
        "    where Y_(i,t) denotes the resource allocation at time t for the i-th area,\n",
        "    where D_(i,t) denotes the demand at time t for the i-th area.\n",
        "\n",
        "    Advances state based on action and increments time step.\n",
        "    \n",
        "    Returns current state, reward, and time step.\n",
        "    '''\n",
        "    self.check_action(action)\n",
        "    reward = self.calc_cost(action, self.state, self.get_next(action), self.curr_time)\n",
        "\n",
        "    self.state = np.add(self.state, action * -1)\n",
        "    self.state = np.add(self.state, self.demand)\n",
        "    self.curr_time += 1\n",
        "\n",
        "    return copy.deepcopy(self.state), reward, self.curr_time\n",
        "\n",
        "  def get_next(self, curr, action):\n",
        "    next = copy.deepcopy(np.add(curr, action * -1))\n",
        "    next = np.add(next, self.demand)\n",
        "    return next\n",
        "\n",
        "  def check_action(self, action):\n",
        "    '''\n",
        "    checks if action and demand are legal under the given environment parameters\n",
        "    '''\n",
        "    if action.size != self.n:\n",
        "      raise ValueError('length of action tuple must equal number of affected areas')\n",
        "    if action.sum(axis=0) > self.c:\n",
        "      raise ValueError('resource allocation must not exceed capacity')\n",
        "\n",
        "  def calc_AC(self, action):\n",
        "    #Omega function\n",
        "    cost = 0\n",
        "    for i in range(len(action)):\n",
        "      cost += action[i] * self.ac[i]\n",
        "    return cost\n",
        "\n",
        "  def calc_SDCC(self, state):\n",
        "    #Tau function\n",
        "    cost = 0\n",
        "    for s in state:\n",
        "      cost += self.gamma * (self.L * (s + 1)) - self.gamma * (self.L * (s))\n",
        "    return cost\n",
        "\n",
        "  def calc_cost(self, action, state, next, time):\n",
        "    '''\n",
        "    calculates the reward for the chosen action in the given state and time step\n",
        "    action must be a vector with size = n\n",
        "    state must be a vector with size = n\n",
        "    next must be a vector with size = n\n",
        "    time must be an integer value, where 0 < time <= horizon+1\n",
        "    '''\n",
        "    next = self.get_next(state, action)\n",
        "    reward = 0\n",
        "    if time == 1:\n",
        "      #following equation (7)\n",
        "      reward -= self.calc_AC(action)\n",
        "      reward -= self.calc_SDCC(state)\n",
        "      reward -= self.calc_sdcc(next)\n",
        "    elif time == (self.t + 1):\n",
        "      #following equation (9)\n",
        "      reward -= self.calc_AC(action)\n",
        "      reward -= self.calc_SDCC(next)\n",
        "    else:\n",
        "      #following equation (8)\n",
        "      reward -= self.calc_AC(action)\n",
        "      reward -= self.calc_SDCC(next)\n",
        "    return reward"
      ],
      "metadata": {
        "id": "ez1-NBxR8L8r"
      },
      "execution_count": 8,
      "outputs": []
    },
    {
      "cell_type": "code",
      "source": [
        "class Agent:\n",
        "  def __init__(self, env, k=2000, epsilon=0.5, alpha=0.8, gamma=0.2):\n",
        "    '''\n",
        "    initialize with:\n",
        "      k = number of epochs\n",
        "      epsilon\n",
        "      alpha\n",
        "      gamma\n",
        "    '''\n",
        "    self.env = env\n",
        "    self.k = k\n",
        "    self.epsilon = epsilon\n",
        "    self.alpha = alpha\n",
        "    self.gamma = gamma\n",
        "    self.initialize_q_table(self.env.n, self.env.c, self.env.t)\n",
        "  \n",
        "  def initialize_q_table(self, n, c, t):\n",
        "    #q-table is maintained as a double hash table\n",
        "    #the keys of the outer hash is the state tuple\n",
        "    #the keys of the inner hash the action tuple in the given state\n",
        "    self.q_table = {}\n",
        "    #first, generate all possible states. by the problem descriptions, we assume\n",
        "    #that S_(i,t) >= 0 for all i <= N, for all t <= T\n",
        "    \n",
        "    #all_states = list(permutations(range(0, t+1), n))\n",
        "    #all_actions = list(permutations(range()))\n",
        "\n",
        "    all_states = [i for i in product(range(-(t+1), t+2), repeat=n)]\n",
        "    '''\n",
        "    for item in product(range(-(t+1), t+2), repeat=n):\n",
        "      if sum(item) <= ((t+1) * n):\n",
        "        all_states.append(item)\n",
        "    '''\n",
        "    all_actions = []\n",
        "    for item in product(range(0, c+1), repeat=n):\n",
        "      if sum(item) <= c:\n",
        "        all_actions.append(item)\n",
        "\n",
        "    for tup in all_states:\n",
        "      self.q_table[tup] = {}\n",
        "      for act in all_actions:\n",
        "        self.q_table[tup][act] = 0\n",
        "\n",
        "  def update_qtable(self, curr, action, reward, next):\n",
        "    temp = []\n",
        "    for a in self.q_table[next].keys():\n",
        "      temp.append[self.q_table[next][a]]\n",
        "    self.q_table[curr][action] += self.alpha * (reward + self.gamma * max(temp) - self.q_table[curr][action])\n",
        "\n",
        "  def action_selection(self, curr):\n",
        "    if random.random() < self.epsilon:\n",
        "      return random.choice(self.q_table[curr].keys())\n",
        "\n",
        "    best_reward = 0\n",
        "    best_action = (0,) * self.n\n",
        "    for a in self.q_table[curr].keys():\n",
        "      tmp = self.q_table[curr][a]\n",
        "      if tmp > best_reward:\n",
        "        best_reward = tmp\n",
        "        best_action = a\n",
        "    return best_action\n",
        "\n",
        "  def train(self, k, epsilon):\n",
        "    training = []\n",
        "    for t in range(1, k+1):\n",
        "      episode = self.train_episode(t)\n",
        "      training.append(episode)\n",
        "    return training\n",
        "\n",
        "  def train_episode(self, t):\n",
        "    curr = (0,) * self.n\n",
        "    done = False\n",
        "    history = []\n",
        "    print('Episode {}:'.format(t))\n",
        "    while not done:\n",
        "        action = self.action_selection(curr)\n",
        "        next, reward, done = self.env.take_action(action)\n",
        "        self.update_table(curr, action, reward, next)\n",
        "        history.append((curr, action, reward))\n",
        "        state = next\n",
        "    return history"
      ],
      "metadata": {
        "id": "xSF_xhg6C-LJ"
      },
      "execution_count": 48,
      "outputs": []
    },
    {
      "cell_type": "code",
      "source": [
        "accessibility_costs = np.array([200,250,300,350,400,450,500,550,600,650])\n",
        "e = Environment(n=3,c=1,t=5,gamma=0.5,ac=accessibility_costs,dca=0.1,dcb=0.1)\n",
        "a = Agent(e)"
      ],
      "metadata": {
        "id": "VvZIAX6AJic8"
      },
      "execution_count": 49,
      "outputs": []
    },
    {
      "cell_type": "code",
      "source": [
        "print(len(a.q_table))\n",
        "print(len(a.q_table[(0,0,0)]))\n",
        "\n",
        "#test = a.action_selection(a.env.state)"
      ],
      "metadata": {
        "colab": {
          "base_uri": "https://localhost:8080/"
        },
        "id": "9qpjWvkZYObb",
        "outputId": "80467cac-5b55-498f-b5b4-e982a05981ab"
      },
      "execution_count": 50,
      "outputs": [
        {
          "output_type": "stream",
          "name": "stdout",
          "text": [
            "2197\n",
            "4\n"
          ]
        }
      ]
    }
  ]
}